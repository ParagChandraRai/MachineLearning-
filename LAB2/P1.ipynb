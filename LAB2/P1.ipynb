{
 "cells": [
  {
   "cell_type": "markdown",
   "id": "2e14be6b-114c-417c-a6dd-f2ca0014f2f0",
   "metadata": {},
   "source": [
    "<font color='red' size='5'> **Outlier Detection and Removal Using IQR** </font>>>"
   ]
  },
  {
   "cell_type": "code",
   "execution_count": 1,
   "id": "22d19a14-e552-4494-ba02-c63f91339c3a",
   "metadata": {},
   "outputs": [
    {
     "name": "stdout",
     "output_type": "stream",
     "text": [
      "*** No CODEPAGE record, no encoding_override: will use 'iso-8859-1'\n",
      "       X     Y\n",
      "0   1000  1050\n",
      "1   1125  1150\n",
      "2   1087  1213\n",
      "3   1070  1275\n",
      "4   1100  1300\n",
      "5   1150  1300\n",
      "6   1250  1400\n",
      "7   1150  1400\n",
      "8   1100  1250\n",
      "9   1350  1830\n",
      "10  1275  1350\n",
      "11  1375  1450\n",
      "12  1175  1300\n",
      "13  1200  1300\n",
      "14  1175  1275\n",
      "15  1300  1375\n",
      "16  1260  1285\n",
      "17  1330  1400\n",
      "18  1325  1400\n",
      "19  1200  1285\n",
      "20  1225  1275\n",
      "21  1090  1135\n",
      "22  1075  1250\n",
      "23  1080  1275\n",
      "24  1080  1150\n",
      "25  1180  1250\n",
      "26  1225  1275\n",
      "27  1175  1225\n",
      "28  1250  1280\n",
      "29  1250  1300\n",
      "30   750  1250\n",
      "31  1125  1175\n",
      "32   700  1300\n",
      "33   900  1250\n",
      "34   900  1300\n",
      "35   850  1200\n"
     ]
    }
   ],
   "source": [
    "import pandas as pd\n",
    "df = pd.read_excel('DS1.xls', engine='xlrd')\n",
    "print (df)"
   ]
  },
  {
   "cell_type": "code",
   "execution_count": 2,
   "id": "5ab1ba7d-f38f-4c8b-9368-8dd6ba006ff0",
   "metadata": {},
   "outputs": [
    {
     "data": {
      "text/plain": [
       "2.2128589029601087"
      ]
     },
     "execution_count": 2,
     "metadata": {},
     "output_type": "execute_result"
    }
   ],
   "source": [
    "df.Y.skew()"
   ]
  },
  {
   "cell_type": "code",
   "execution_count": 3,
   "id": "a7974d36-e292-42cb-9c1c-808059ba586d",
   "metadata": {},
   "outputs": [
    {
     "data": {
      "text/plain": [
       "-1.0421372999845977"
      ]
     },
     "execution_count": 3,
     "metadata": {},
     "output_type": "execute_result"
    }
   ],
   "source": [
    "df.X.skew()"
   ]
  },
  {
   "cell_type": "code",
   "execution_count": 4,
   "id": "9c4541ae-3175-4444-a675-f187c58c13ef",
   "metadata": {},
   "outputs": [
    {
     "data": {
      "text/plain": [
       "[<matplotlib.lines.Line2D at 0x209b9b59050>]"
      ]
     },
     "execution_count": 4,
     "metadata": {},
     "output_type": "execute_result"
    },
    {
     "data": {
      "image/png": "[encoded data removed]",
      "text/plain": [
       "<Figure size 640x480 with 1 Axes>"
      ]
     },
     "metadata": {},
     "output_type": "display_data"
    }
   ],
   "source": [
    "from scipy.stats import norm\n",
    "import numpy as np\n",
    "import matplotlib.pyplot as plt\n",
    "plt.hist(df.Y, bins=20, rwidth=0.8, density=True)\n",
    "plt.xlabel('Y')\n",
    "plt.ylabel('Count')\n",
    "\n",
    "rng = np.arange(df.Y.min(), df.Y.max(), 0.1)\n",
    "plt.plot(rng, norm.pdf(rng,df.Y.mean(),df.Y.std()))"
   ]
  },
  {
   "cell_type": "code",
   "execution_count": 5,
   "id": "15b5b8b0-ecb2-4bfe-ad8b-ec3cbd9d2b17",
   "metadata": {},
   "outputs": [
    {
     "data": {
      "text/plain": [
       "(36, 2)"
      ]
     },
     "execution_count": 5,
     "metadata": {},
     "output_type": "execute_result"
    }
   ],
   "source": [
    "df.shape"
   ]
  },
  {
   "cell_type": "code",
   "execution_count": 6,
   "id": "65b63e31-71c5-4dba-900b-b156f9acc5d7",
   "metadata": {},
   "outputs": [
    {
     "data": {
      "text/html": [
       "<div>\n",
       "<style scoped>\n",
       "    .dataframe tbody tr th:only-of-type {\n",
       "        vertical-align: middle;\n",
       "    }\n",
       "\n",
       "    .dataframe tbody tr th {\n",
       "        vertical-align: top;\n",
       "    }\n",
       "\n",
       "    .dataframe thead th {\n",
       "        text-align: right;\n",
       "    }\n",
       "</style>\n",
       "<table border=\"1\" class=\"dataframe\">\n",
       "  <thead>\n",
       "    <tr style=\"text-align: right;\">\n",
       "      <th></th>\n",
       "      <th>X</th>\n",
       "      <th>Y</th>\n",
       "    </tr>\n",
       "  </thead>\n",
       "  <tbody>\n",
       "    <tr>\n",
       "      <th>count</th>\n",
       "      <td>36.000000</td>\n",
       "      <td>36.000000</td>\n",
       "    </tr>\n",
       "    <tr>\n",
       "      <th>mean</th>\n",
       "      <td>1134.777778</td>\n",
       "      <td>1291.055556</td>\n",
       "    </tr>\n",
       "    <tr>\n",
       "      <th>std</th>\n",
       "      <td>158.583211</td>\n",
       "      <td>124.058038</td>\n",
       "    </tr>\n",
       "    <tr>\n",
       "      <th>min</th>\n",
       "      <td>700.000000</td>\n",
       "      <td>1050.000000</td>\n",
       "    </tr>\n",
       "    <tr>\n",
       "      <th>25%</th>\n",
       "      <td>1080.000000</td>\n",
       "      <td>1250.000000</td>\n",
       "    </tr>\n",
       "    <tr>\n",
       "      <th>50%</th>\n",
       "      <td>1162.500000</td>\n",
       "      <td>1277.500000</td>\n",
       "    </tr>\n",
       "    <tr>\n",
       "      <th>75%</th>\n",
       "      <td>1250.000000</td>\n",
       "      <td>1300.000000</td>\n",
       "    </tr>\n",
       "    <tr>\n",
       "      <th>max</th>\n",
       "      <td>1375.000000</td>\n",
       "      <td>1830.000000</td>\n",
       "    </tr>\n",
       "  </tbody>\n",
       "</table>\n",
       "</div>"
      ],
      "text/plain": [
       "                 X            Y\n",
       "count    36.000000    36.000000\n",
       "mean   1134.777778  1291.055556\n",
       "std     158.583211   124.058038\n",
       "min     700.000000  1050.000000\n",
       "25%    1080.000000  1250.000000\n",
       "50%    1162.500000  1277.500000\n",
       "75%    1250.000000  1300.000000\n",
       "max    1375.000000  1830.000000"
      ]
     },
     "execution_count": 6,
     "metadata": {},
     "output_type": "execute_result"
    }
   ],
   "source": [
    "df.describe()"
   ]
  },
  {
   "cell_type": "markdown",
   "id": "39ac3fdd-ab66-4fb0-852b-2fb7ad4d659e",
   "metadata": {},
   "source": [
    "\n",
    "<font color='red' size='5'>Detect outliers using IQR</font>"
   ]
  },
  {
   "cell_type": "code",
   "execution_count": 7,
   "id": "399f6901-b6d0-4d26-9e6c-7402ddbb21fd",
   "metadata": {},
   "outputs": [
    {
     "data": {
      "text/plain": [
       "(1250.0, 1300.0)"
      ]
     },
     "execution_count": 7,
     "metadata": {},
     "output_type": "execute_result"
    }
   ],
   "source": [
    "Q1 = df.Y.quantile(0.25)\n",
    "Q3 = df.Y.quantile(0.75)\n",
    "Q1, Q3"
   ]
  },
  {
   "cell_type": "code",
   "execution_count": 8,
   "id": "d56007f6-1b39-4a5a-a774-5e330eac78c2",
   "metadata": {},
   "outputs": [
    {
     "data": {
      "text/plain": [
       "50.0"
      ]
     },
     "execution_count": 8,
     "metadata": {},
     "output_type": "execute_result"
    }
   ],
   "source": [
    "IQR = Q3 - Q1\n",
    "IQR"
   ]
  },
  {
   "cell_type": "code",
   "execution_count": 9,
   "id": "083b1e84-70f9-4f87-b399-ab2ce5d1f427",
   "metadata": {},
   "outputs": [
    {
     "data": {
      "text/plain": [
       "(1175.0, 1375.0)"
      ]
     },
     "execution_count": 9,
     "metadata": {},
     "output_type": "execute_result"
    }
   ],
   "source": [
    "lower_limit = Q1 - 1.5*IQR\n",
    "upper_limit = Q3 + 1.5*IQR\n",
    "lower_limit, upper_limit"
   ]
  },
  {
   "cell_type": "markdown",
   "id": "1eff921a-9c34-4ac1-aa24-59149fac502e",
   "metadata": {},
   "source": [
    "\n",
    "<font color='red' size='5'>Here are the outliers</font>"
   ]
  },
  {
   "cell_type": "code",
   "execution_count": 10,
   "id": "57511ed1-1164-49a9-8a1e-d6b6d416f2d1",
   "metadata": {},
   "outputs": [
    {
     "data": {
      "text/html": [
       "<div>\n",
       "<style scoped>\n",
       "    .dataframe tbody tr th:only-of-type {\n",
       "        vertical-align: middle;\n",
       "    }\n",
       "\n",
       "    .dataframe tbody tr th {\n",
       "        vertical-align: top;\n",
       "    }\n",
       "\n",
       "    .dataframe thead th {\n",
       "        text-align: right;\n",
       "    }\n",
       "</style>\n",
       "<table border=\"1\" class=\"dataframe\">\n",
       "  <thead>\n",
       "    <tr style=\"text-align: right;\">\n",
       "      <th></th>\n",
       "      <th>X</th>\n",
       "      <th>Y</th>\n",
       "    </tr>\n",
       "  </thead>\n",
       "  <tbody>\n",
       "    <tr>\n",
       "      <th>0</th>\n",
       "      <td>1000</td>\n",
       "      <td>1050</td>\n",
       "    </tr>\n",
       "    <tr>\n",
       "      <th>1</th>\n",
       "      <td>1125</td>\n",
       "      <td>1150</td>\n",
       "    </tr>\n",
       "    <tr>\n",
       "      <th>6</th>\n",
       "      <td>1250</td>\n",
       "      <td>1400</td>\n",
       "    </tr>\n",
       "    <tr>\n",
       "      <th>7</th>\n",
       "      <td>1150</td>\n",
       "      <td>1400</td>\n",
       "    </tr>\n",
       "    <tr>\n",
       "      <th>9</th>\n",
       "      <td>1350</td>\n",
       "      <td>1830</td>\n",
       "    </tr>\n",
       "    <tr>\n",
       "      <th>11</th>\n",
       "      <td>1375</td>\n",
       "      <td>1450</td>\n",
       "    </tr>\n",
       "    <tr>\n",
       "      <th>17</th>\n",
       "      <td>1330</td>\n",
       "      <td>1400</td>\n",
       "    </tr>\n",
       "    <tr>\n",
       "      <th>18</th>\n",
       "      <td>1325</td>\n",
       "      <td>1400</td>\n",
       "    </tr>\n",
       "    <tr>\n",
       "      <th>21</th>\n",
       "      <td>1090</td>\n",
       "      <td>1135</td>\n",
       "    </tr>\n",
       "    <tr>\n",
       "      <th>24</th>\n",
       "      <td>1080</td>\n",
       "      <td>1150</td>\n",
       "    </tr>\n",
       "  </tbody>\n",
       "</table>\n",
       "</div>"
      ],
      "text/plain": [
       "       X     Y\n",
       "0   1000  1050\n",
       "1   1125  1150\n",
       "6   1250  1400\n",
       "7   1150  1400\n",
       "9   1350  1830\n",
       "11  1375  1450\n",
       "17  1330  1400\n",
       "18  1325  1400\n",
       "21  1090  1135\n",
       "24  1080  1150"
      ]
     },
     "execution_count": 10,
     "metadata": {},
     "output_type": "execute_result"
    }
   ],
   "source": [
    "df[(df.Y<lower_limit)|(df.Y>upper_limit)]"
   ]
  },
  {
   "cell_type": "markdown",
   "id": "51c828f8-50e8-4da2-ad89-059db803606f",
   "metadata": {},
   "source": [
    "\n",
    "<font color='red' size='6'>Remove the outliers and produce new dataframe</font>"
   ]
  },
  {
   "cell_type": "code",
   "execution_count": 11,
   "id": "85a45f52-3c60-46be-9092-7a3a68b97d97",
   "metadata": {},
   "outputs": [
    {
     "data": {
      "text/html": [
       "<div>\n",
       "<style scoped>\n",
       "    .dataframe tbody tr th:only-of-type {\n",
       "        vertical-align: middle;\n",
       "    }\n",
       "\n",
       "    .dataframe tbody tr th {\n",
       "        vertical-align: top;\n",
       "    }\n",
       "\n",
       "    .dataframe thead th {\n",
       "        text-align: right;\n",
       "    }\n",
       "</style>\n",
       "<table border=\"1\" class=\"dataframe\">\n",
       "  <thead>\n",
       "    <tr style=\"text-align: right;\">\n",
       "      <th></th>\n",
       "      <th>X</th>\n",
       "      <th>Y</th>\n",
       "    </tr>\n",
       "  </thead>\n",
       "  <tbody>\n",
       "    <tr>\n",
       "      <th>2</th>\n",
       "      <td>1087</td>\n",
       "      <td>1213</td>\n",
       "    </tr>\n",
       "    <tr>\n",
       "      <th>3</th>\n",
       "      <td>1070</td>\n",
       "      <td>1275</td>\n",
       "    </tr>\n",
       "    <tr>\n",
       "      <th>4</th>\n",
       "      <td>1100</td>\n",
       "      <td>1300</td>\n",
       "    </tr>\n",
       "    <tr>\n",
       "      <th>5</th>\n",
       "      <td>1150</td>\n",
       "      <td>1300</td>\n",
       "    </tr>\n",
       "    <tr>\n",
       "      <th>8</th>\n",
       "      <td>1100</td>\n",
       "      <td>1250</td>\n",
       "    </tr>\n",
       "    <tr>\n",
       "      <th>10</th>\n",
       "      <td>1275</td>\n",
       "      <td>1350</td>\n",
       "    </tr>\n",
       "    <tr>\n",
       "      <th>12</th>\n",
       "      <td>1175</td>\n",
       "      <td>1300</td>\n",
       "    </tr>\n",
       "    <tr>\n",
       "      <th>13</th>\n",
       "      <td>1200</td>\n",
       "      <td>1300</td>\n",
       "    </tr>\n",
       "    <tr>\n",
       "      <th>14</th>\n",
       "      <td>1175</td>\n",
       "      <td>1275</td>\n",
       "    </tr>\n",
       "    <tr>\n",
       "      <th>16</th>\n",
       "      <td>1260</td>\n",
       "      <td>1285</td>\n",
       "    </tr>\n",
       "    <tr>\n",
       "      <th>19</th>\n",
       "      <td>1200</td>\n",
       "      <td>1285</td>\n",
       "    </tr>\n",
       "    <tr>\n",
       "      <th>20</th>\n",
       "      <td>1225</td>\n",
       "      <td>1275</td>\n",
       "    </tr>\n",
       "    <tr>\n",
       "      <th>22</th>\n",
       "      <td>1075</td>\n",
       "      <td>1250</td>\n",
       "    </tr>\n",
       "    <tr>\n",
       "      <th>23</th>\n",
       "      <td>1080</td>\n",
       "      <td>1275</td>\n",
       "    </tr>\n",
       "    <tr>\n",
       "      <th>25</th>\n",
       "      <td>1180</td>\n",
       "      <td>1250</td>\n",
       "    </tr>\n",
       "    <tr>\n",
       "      <th>26</th>\n",
       "      <td>1225</td>\n",
       "      <td>1275</td>\n",
       "    </tr>\n",
       "    <tr>\n",
       "      <th>27</th>\n",
       "      <td>1175</td>\n",
       "      <td>1225</td>\n",
       "    </tr>\n",
       "    <tr>\n",
       "      <th>28</th>\n",
       "      <td>1250</td>\n",
       "      <td>1280</td>\n",
       "    </tr>\n",
       "    <tr>\n",
       "      <th>29</th>\n",
       "      <td>1250</td>\n",
       "      <td>1300</td>\n",
       "    </tr>\n",
       "    <tr>\n",
       "      <th>30</th>\n",
       "      <td>750</td>\n",
       "      <td>1250</td>\n",
       "    </tr>\n",
       "    <tr>\n",
       "      <th>32</th>\n",
       "      <td>700</td>\n",
       "      <td>1300</td>\n",
       "    </tr>\n",
       "    <tr>\n",
       "      <th>33</th>\n",
       "      <td>900</td>\n",
       "      <td>1250</td>\n",
       "    </tr>\n",
       "    <tr>\n",
       "      <th>34</th>\n",
       "      <td>900</td>\n",
       "      <td>1300</td>\n",
       "    </tr>\n",
       "    <tr>\n",
       "      <th>35</th>\n",
       "      <td>850</td>\n",
       "      <td>1200</td>\n",
       "    </tr>\n",
       "  </tbody>\n",
       "</table>\n",
       "</div>"
      ],
      "text/plain": [
       "       X     Y\n",
       "2   1087  1213\n",
       "3   1070  1275\n",
       "4   1100  1300\n",
       "5   1150  1300\n",
       "8   1100  1250\n",
       "10  1275  1350\n",
       "12  1175  1300\n",
       "13  1200  1300\n",
       "14  1175  1275\n",
       "16  1260  1285\n",
       "19  1200  1285\n",
       "20  1225  1275\n",
       "22  1075  1250\n",
       "23  1080  1275\n",
       "25  1180  1250\n",
       "26  1225  1275\n",
       "27  1175  1225\n",
       "28  1250  1280\n",
       "29  1250  1300\n",
       "30   750  1250\n",
       "32   700  1300\n",
       "33   900  1250\n",
       "34   900  1300\n",
       "35   850  1200"
      ]
     },
     "execution_count": 11,
     "metadata": {},
     "output_type": "execute_result"
    }
   ],
   "source": [
    "df_no_outlier = df[(df.Y>lower_limit)&(df.Y<upper_limit)]\n",
    "df_no_outlier"
   ]
  },
  {
   "cell_type": "code",
   "execution_count": 12,
   "id": "bf5558e4-440f-42f5-8234-f4b8e16fbee4",
   "metadata": {},
   "outputs": [
    {
     "data": {
      "text/plain": [
       "(24, 2)"
      ]
     },
     "execution_count": 12,
     "metadata": {},
     "output_type": "execute_result"
    }
   ],
   "source": [
    "df_no_outlier.shape"
   ]
  },
  {
   "cell_type": "code",
   "execution_count": 13,
   "id": "d1e61e33-36d5-4d46-a3c9-46ac26169a0b",
   "metadata": {},
   "outputs": [
    {
     "data": {
      "text/plain": [
       "(36, 2)"
      ]
     },
     "execution_count": 13,
     "metadata": {},
     "output_type": "execute_result"
    }
   ],
   "source": [
    "df.shape"
   ]
  },
  {
   "cell_type": "code",
   "execution_count": 14,
   "id": "8c5bbe16-aac9-4c39-8873-0232599ce1c4",
   "metadata": {
    "scrolled": true
   },
   "outputs": [
    {
     "data": {
      "text/html": [
       "<div>\n",
       "<style scoped>\n",
       "    .dataframe tbody tr th:only-of-type {\n",
       "        vertical-align: middle;\n",
       "    }\n",
       "\n",
       "    .dataframe tbody tr th {\n",
       "        vertical-align: top;\n",
       "    }\n",
       "\n",
       "    .dataframe thead th {\n",
       "        text-align: right;\n",
       "    }\n",
       "</style>\n",
       "<table border=\"1\" class=\"dataframe\">\n",
       "  <thead>\n",
       "    <tr style=\"text-align: right;\">\n",
       "      <th></th>\n",
       "      <th>X</th>\n",
       "      <th>Y</th>\n",
       "    </tr>\n",
       "  </thead>\n",
       "  <tbody>\n",
       "    <tr>\n",
       "      <th>2</th>\n",
       "      <td>1087</td>\n",
       "      <td>1213</td>\n",
       "    </tr>\n",
       "    <tr>\n",
       "      <th>3</th>\n",
       "      <td>1070</td>\n",
       "      <td>1275</td>\n",
       "    </tr>\n",
       "    <tr>\n",
       "      <th>4</th>\n",
       "      <td>1100</td>\n",
       "      <td>1300</td>\n",
       "    </tr>\n",
       "    <tr>\n",
       "      <th>5</th>\n",
       "      <td>1150</td>\n",
       "      <td>1300</td>\n",
       "    </tr>\n",
       "    <tr>\n",
       "      <th>8</th>\n",
       "      <td>1100</td>\n",
       "      <td>1250</td>\n",
       "    </tr>\n",
       "    <tr>\n",
       "      <th>10</th>\n",
       "      <td>1275</td>\n",
       "      <td>1350</td>\n",
       "    </tr>\n",
       "    <tr>\n",
       "      <th>12</th>\n",
       "      <td>1175</td>\n",
       "      <td>1300</td>\n",
       "    </tr>\n",
       "    <tr>\n",
       "      <th>13</th>\n",
       "      <td>1200</td>\n",
       "      <td>1300</td>\n",
       "    </tr>\n",
       "    <tr>\n",
       "      <th>14</th>\n",
       "      <td>1175</td>\n",
       "      <td>1275</td>\n",
       "    </tr>\n",
       "    <tr>\n",
       "      <th>16</th>\n",
       "      <td>1260</td>\n",
       "      <td>1285</td>\n",
       "    </tr>\n",
       "    <tr>\n",
       "      <th>19</th>\n",
       "      <td>1200</td>\n",
       "      <td>1285</td>\n",
       "    </tr>\n",
       "    <tr>\n",
       "      <th>20</th>\n",
       "      <td>1225</td>\n",
       "      <td>1275</td>\n",
       "    </tr>\n",
       "    <tr>\n",
       "      <th>22</th>\n",
       "      <td>1075</td>\n",
       "      <td>1250</td>\n",
       "    </tr>\n",
       "    <tr>\n",
       "      <th>23</th>\n",
       "      <td>1080</td>\n",
       "      <td>1275</td>\n",
       "    </tr>\n",
       "    <tr>\n",
       "      <th>25</th>\n",
       "      <td>1180</td>\n",
       "      <td>1250</td>\n",
       "    </tr>\n",
       "    <tr>\n",
       "      <th>26</th>\n",
       "      <td>1225</td>\n",
       "      <td>1275</td>\n",
       "    </tr>\n",
       "    <tr>\n",
       "      <th>27</th>\n",
       "      <td>1175</td>\n",
       "      <td>1225</td>\n",
       "    </tr>\n",
       "    <tr>\n",
       "      <th>28</th>\n",
       "      <td>1250</td>\n",
       "      <td>1280</td>\n",
       "    </tr>\n",
       "    <tr>\n",
       "      <th>29</th>\n",
       "      <td>1250</td>\n",
       "      <td>1300</td>\n",
       "    </tr>\n",
       "    <tr>\n",
       "      <th>30</th>\n",
       "      <td>750</td>\n",
       "      <td>1250</td>\n",
       "    </tr>\n",
       "    <tr>\n",
       "      <th>32</th>\n",
       "      <td>700</td>\n",
       "      <td>1300</td>\n",
       "    </tr>\n",
       "    <tr>\n",
       "      <th>33</th>\n",
       "      <td>900</td>\n",
       "      <td>1250</td>\n",
       "    </tr>\n",
       "    <tr>\n",
       "      <th>34</th>\n",
       "      <td>900</td>\n",
       "      <td>1300</td>\n",
       "    </tr>\n",
       "    <tr>\n",
       "      <th>35</th>\n",
       "      <td>850</td>\n",
       "      <td>1200</td>\n",
       "    </tr>\n",
       "  </tbody>\n",
       "</table>\n",
       "</div>"
      ],
      "text/plain": [
       "       X     Y\n",
       "2   1087  1213\n",
       "3   1070  1275\n",
       "4   1100  1300\n",
       "5   1150  1300\n",
       "8   1100  1250\n",
       "10  1275  1350\n",
       "12  1175  1300\n",
       "13  1200  1300\n",
       "14  1175  1275\n",
       "16  1260  1285\n",
       "19  1200  1285\n",
       "20  1225  1275\n",
       "22  1075  1250\n",
       "23  1080  1275\n",
       "25  1180  1250\n",
       "26  1225  1275\n",
       "27  1175  1225\n",
       "28  1250  1280\n",
       "29  1250  1300\n",
       "30   750  1250\n",
       "32   700  1300\n",
       "33   900  1250\n",
       "34   900  1300\n",
       "35   850  1200"
      ]
     },
     "execution_count": 14,
     "metadata": {},
     "output_type": "execute_result"
    }
   ],
   "source": [
    "df_no_outlier"
   ]
  },
  {
   "cell_type": "code",
   "execution_count": 15,
   "id": "e7ae7220-1540-41a6-9a2f-1560477b2d0d",
   "metadata": {},
   "outputs": [
    {
     "data": {
      "text/plain": [
       "[<matplotlib.lines.Line2D at 0x209b9ba6f10>]"
      ]
     },
     "execution_count": 15,
     "metadata": {},
     "output_type": "execute_result"
    },
    {
     "data": {
      "image/png": "[encoded data removed]",
      "text/plain": [
       "<Figure size 640x480 with 1 Axes>"
      ]
     },
     "metadata": {},
     "output_type": "display_data"
    }
   ],
   "source": [
    "from scipy.stats import norm\n",
    "import numpy as np\n",
    "import matplotlib.pyplot as plt\n",
    "plt.hist(df_no_outlier.Y, bins=20, rwidth=0.8, density=True)\n",
    "plt.xlabel('Y')\n",
    "plt.ylabel('Count')\n",
    "\n",
    "rng = np.arange(df_no_outlier.Y.min(), df_no_outlier.Y.max(), 0.1)\n",
    "plt.plot(rng, norm.pdf(rng,df_no_outlier.Y.mean(),df_no_outlier.Y.std()))"
   ]
  },
  {
   "cell_type": "code",
   "execution_count": 16,
   "id": "51e0c28b-cb21-4dec-80b5-a32b5c9ae1c5",
   "metadata": {},
   "outputs": [
    {
     "data": {
      "text/plain": [
       "(1098.0, 1273.4583333333333)"
      ]
     },
     "execution_count": 16,
     "metadata": {},
     "output_type": "execute_result"
    }
   ],
   "source": [
    "# collecting x & y\n",
    "X = df_no_outlier['X'].values\n",
    "Y = df_no_outlier['Y'].values\n",
    "\n",
    "# calculate mean of x & y using an inbuilt numpy method mean()\n",
    "mean_x = np.mean(X)\n",
    "mean_y = np.mean(Y)\n",
    "mean_x,mean_y"
   ]
  },
  {
   "cell_type": "code",
   "execution_count": 17,
   "id": "72237f55-9971-4d98-90eb-f3f90da8f056",
   "metadata": {},
   "outputs": [
    {
     "name": "stdout",
     "output_type": "stream",
     "text": [
      "Regression Equation: Y = 0.06X + 1202.79\n",
      "R-squared: 0.10\n"
     ]
    },
    {
     "data": {
      "image/png": "[encoded data removed]",
      "text/plain": [
       "<Figure size 640x480 with 1 Axes>"
      ]
     },
     "metadata": {},
     "output_type": "display_data"
    }
   ],
   "source": [
    "import numpy as np\n",
    "import matplotlib.pyplot as plt\n",
    "\n",
    "# Assuming you have loaded your data into X and Y\n",
    "\n",
    "# Calculate the means of X and Y\n",
    "mean_x = np.mean(X)\n",
    "mean_y = np.mean(Y)\n",
    "\n",
    "# Calculate the slope (m) and intercept (c) using the least squares method\n",
    "numer = 0\n",
    "denom = 0\n",
    "for i in range(len(X)):\n",
    "    numer += (X[i] - mean_x) * (Y[i] - mean_y)\n",
    "    denom += (X[i] - mean_x) ** 2\n",
    "\n",
    "m = numer / denom\n",
    "c = mean_y - (m * mean_x)\n",
    "\n",
    "# Create a regression line using the calculated m and c\n",
    "regression_line = [(m * x) + c for x in X]\n",
    "\n",
    "# Calculate the coefficient of determination (R-squared)\n",
    "ssr = 0  # Sum of squared residuals\n",
    "sst = 0  # Total sum of squares\n",
    "for i in range(len(X)):\n",
    "    y_pred = (m * X[i]) + c\n",
    "    ssr += (Y[i] - y_pred) ** 2\n",
    "    sst += (Y[i] - mean_y) ** 2\n",
    "\n",
    "r_squared = 1 - (ssr / sst)\n",
    "\n",
    "# Plot the data points and regression line\n",
    "plt.scatter(X, Y, c=\"red\", label=\"Actual Data\")\n",
    "plt.plot(X, regression_line, label=\"Regression Line\", color=\"blue\")\n",
    "plt.xlabel(\"X\")\n",
    "plt.ylabel(\"Y\")\n",
    "plt.legend()\n",
    "\n",
    "# Display the regression equation and R-squared value\n",
    "print(f\"Regression Equation: Y = {m:.2f}X + {c:.2f}\")\n",
    "print(f\"R-squared: {r_squared:.2f}\")\n",
    "\n",
    "plt.show()\n"
   ]
  },
  {
   "cell_type": "code",
   "execution_count": 18,
   "id": "bbb8d542-2676-445d-8bbb-ec6fb1f4331b",
   "metadata": {},
   "outputs": [
    {
     "name": "stdout",
     "output_type": "stream",
     "text": [
      "Regression Equation (Training): Y = 0.07X + 1199.74\n",
      "R-squared (Training): 0.16\n",
      "Mean Squared Error (Test): 1646.52\n",
      "R-squared (Test): -0.51\n"
     ]
    },
    {
     "data": {
      "image/png": "[encoded data removed]",
      "text/plain": [
       "<Figure size 640x480 with 1 Axes>"
      ]
     },
     "metadata": {},
     "output_type": "display_data"
    }
   ],
   "source": [
    "import numpy as np\n",
    "import matplotlib.pyplot as plt\n",
    "from sklearn.model_selection import train_test_split\n",
    "from sklearn.metrics import mean_squared_error, r2_score\n",
    "\n",
    "# Assuming you have loaded your data into X and Y\n",
    "\n",
    "# Split the data into training and testing sets\n",
    "X_train, X_test, Y_train, Y_test = train_test_split(X, Y, test_size=0.2, random_state=42)\n",
    "\n",
    "# Calculate the means of X_train and Y_train\n",
    "mean_x = np.mean(X_train)\n",
    "mean_y = np.mean(Y_train)\n",
    "\n",
    "# Calculate the slope (m) and intercept (c) using the least squares method\n",
    "numer = 0\n",
    "denom = 0\n",
    "for i in range(len(X_train)):\n",
    "    numer += (X_train[i] - mean_x) * (Y_train[i] - mean_y)\n",
    "    denom += (X_train[i] - mean_x) ** 2\n",
    "\n",
    "m = numer / denom\n",
    "c = mean_y - (m * mean_x)\n",
    "\n",
    "# Create a regression line using the calculated m and c for training set\n",
    "regression_line_train = [(m * x) + c for x in X_train]\n",
    "\n",
    "# Calculate the coefficient of determination (R-squared) for training set\n",
    "ssr = sum((Y_train - regression_line_train) ** 2)\n",
    "sst = sum((Y_train - mean_y) ** 2)\n",
    "r_squared_train = 1 - (ssr / sst)\n",
    "\n",
    "# Make predictions on the test set\n",
    "regression_line_test = [(m * x) + c for x in X_test]\n",
    "\n",
    "# Calculate MSE and R-squared for the test set\n",
    "mse = mean_squared_error(Y_test, regression_line_test)\n",
    "r_squared_test = r2_score(Y_test, regression_line_test)\n",
    "\n",
    "# Plot the data points and regression line for training set\n",
    "plt.scatter(X_train, Y_train, c=\"red\", label=\"Training Data\")\n",
    "plt.plot(X_train, regression_line_train, label=\"Regression Line (Training)\", color=\"blue\")\n",
    "\n",
    "# Plot the data points and regression line for test set\n",
    "plt.scatter(X_test, Y_test, c=\"green\", label=\"Test Data\")\n",
    "plt.plot(X_test, regression_line_test, label=\"Regression Line (Test)\", color=\"orange\")\n",
    "\n",
    "plt.xlabel(\"X\")\n",
    "plt.ylabel(\"Y\")\n",
    "plt.legend()\n",
    "\n",
    "# Display the regression equation and R-squared value for training set\n",
    "print(f\"Regression Equation (Training): Y = {m:.2f}X + {c:.2f}\")\n",
    "print(f\"R-squared (Training): {r_squared_train:.2f}\")\n",
    "\n",
    "# Display the MSE and R-squared value for test set\n",
    "print(f\"Mean Squared Error (Test): {mse:.2f}\")\n",
    "print(f\"R-squared (Test): {r_squared_test:.2f}\")\n",
    "\n",
    "plt.show()\n"
   ]
  },
  {
   "cell_type": "code",
   "execution_count": null,
   "id": "4ee27ece-5000-4e22-842b-1044a324c265",
   "metadata": {},
   "outputs": [],
   "source": []
  }
 ],
 "metadata": {
  "kernelspec": {
   "display_name": "Python 3 (ipykernel)",
   "language": "python",
   "name": "python3"
  },
  "language_info": {
   "codemirror_mode": {
    "name": "ipython",
    "version": 3
   },
   "file_extension": ".py",
   "mimetype": "text/x-python",
   "name": "python",
   "nbconvert_exporter": "python",
   "pygments_lexer": "ipython3",
   "version": "3.11.5"
  }
 },
 "nbformat": 4,
 "nbformat_minor": 5
}
