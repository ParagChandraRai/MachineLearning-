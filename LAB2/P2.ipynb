{
 "cells": [
  {
   "cell_type": "markdown",
   "id": "143a9914-70c0-4f84-ad60-83ef9c8d464c",
   "metadata": {},
   "source": [
    "**Problem 2.**\n",
    "National Unemployment Male Vs. Female (Dataset 2)\n",
    "In the following data pairs\n",
    "• X = national unemployment rate for adult males\n",
    "• Y = national unemployment rate for adult females\n"
   ]
  },
  {
   "cell_type": "markdown",
   "id": "ac458141-200d-4ed7-8870-3304b008bc47",
   "metadata": {},
   "source": [
    "\n",
    "<font color='red' size='6'> Removing outlier using Quartile</font>"
   ]
  },
  {
   "cell_type": "code",
   "execution_count": 1,
   "id": "35508e67-98bb-4533-921c-be1b5536d8f8",
   "metadata": {},
   "outputs": [
    {
     "name": "stdout",
     "output_type": "stream",
     "text": [
      "*** No CODEPAGE record, no encoding_override: will use 'iso-8859-1'\n",
      "      X    Y\n",
      "0   2.9  4.0\n",
      "1   6.7  7.4\n",
      "2   4.9  5.0\n",
      "3   7.9  7.2\n",
      "4   9.8  7.9\n",
      "5   6.9  6.1\n",
      "6   6.1  6.0\n",
      "7   6.2  5.8\n",
      "8   6.0  5.2\n",
      "9   5.1  4.2\n",
      "10  4.7  4.0\n",
      "11  4.4  4.4\n",
      "12  5.8  5.2\n"
     ]
    }
   ],
   "source": [
    "import pandas as pd\n",
    "df = pd.read_excel('DS2.xls', engine='xlrd')\n",
    "print (df)"
   ]
  },
  {
   "cell_type": "code",
   "execution_count": 2,
   "id": "dfb53718-f833-41a9-b80e-de252429c175",
   "metadata": {},
   "outputs": [
    {
     "data": {
      "text/plain": [
       "[<matplotlib.lines.Line2D at 0x2005417bb90>]"
      ]
     },
     "execution_count": 2,
     "metadata": {},
     "output_type": "execute_result"
    },
    {
     "data": {
      "image/png": "[encoded data removed]",
      "text/plain": [
       "<Figure size 640x480 with 1 Axes>"
      ]
     },
     "metadata": {},
     "output_type": "display_data"
    }
   ],
   "source": [
    "from scipy.stats import norm\n",
    "import numpy as np\n",
    "import matplotlib.pyplot as plt\n",
    "plt.hist(df.X, bins=20, rwidth=0.8, density=True)\n",
    "plt.xlabel('X')\n",
    "plt.ylabel('Count')\n",
    "\n",
    "rng = np.arange(df.X.min(), df.X.max(), 0.1)\n",
    "plt.plot(rng, norm.pdf(rng,df.X.mean(),df.X.std()))"
   ]
  },
  {
   "cell_type": "code",
   "execution_count": 3,
   "id": "e2203bf4-7ce7-46bf-87d5-2872db243199",
   "metadata": {},
   "outputs": [
    {
     "data": {
      "text/plain": [
       "0.4857847761341356"
      ]
     },
     "execution_count": 3,
     "metadata": {},
     "output_type": "execute_result"
    }
   ],
   "source": [
    "df.Y.skew()"
   ]
  },
  {
   "cell_type": "code",
   "execution_count": 4,
   "id": "b26fdbdf-39ea-412e-9451-e7e4b25a166e",
   "metadata": {},
   "outputs": [
    {
     "data": {
      "text/plain": [
       "0.5769631131083485"
      ]
     },
     "execution_count": 4,
     "metadata": {},
     "output_type": "execute_result"
    }
   ],
   "source": [
    "df.X.skew()"
   ]
  },
  {
   "cell_type": "code",
   "execution_count": 5,
   "id": "a46539d7-042a-409d-bd8d-289dc5d8b4f4",
   "metadata": {},
   "outputs": [
    {
     "data": {
      "text/plain": [
       "(13, 2)"
      ]
     },
     "execution_count": 5,
     "metadata": {},
     "output_type": "execute_result"
    }
   ],
   "source": [
    "df.shape"
   ]
  },
  {
   "cell_type": "markdown",
   "id": "9ad5e2cd-36a2-4296-8e5a-d3daf12bbfaa",
   "metadata": {},
   "source": [
    "<font color='red' size='5'>Detect outliers using percentile</font>"
   ]
  },
  {
   "cell_type": "code",
   "execution_count": 6,
   "id": "5570c35a-2b98-4ec8-9c8d-591528317b81",
   "metadata": {},
   "outputs": [
    {
     "data": {
      "text/plain": [
       "8.660000133399997"
      ]
     },
     "execution_count": 6,
     "metadata": {},
     "output_type": "execute_result"
    }
   ],
   "source": [
    "max_thresold = df['X'].quantile(0.95)\n",
    "max_thresold"
   ]
  },
  {
   "cell_type": "code",
   "execution_count": 7,
   "id": "a4882f5b-fa87-43e3-9992-66dc13009e10",
   "metadata": {},
   "outputs": [
    {
     "data": {
      "text/html": [
       "<div>\n",
       "<style scoped>\n",
       "    .dataframe tbody tr th:only-of-type {\n",
       "        vertical-align: middle;\n",
       "    }\n",
       "\n",
       "    .dataframe tbody tr th {\n",
       "        vertical-align: top;\n",
       "    }\n",
       "\n",
       "    .dataframe thead th {\n",
       "        text-align: right;\n",
       "    }\n",
       "</style>\n",
       "<table border=\"1\" class=\"dataframe\">\n",
       "  <thead>\n",
       "    <tr style=\"text-align: right;\">\n",
       "      <th></th>\n",
       "      <th>X</th>\n",
       "      <th>Y</th>\n",
       "    </tr>\n",
       "  </thead>\n",
       "  <tbody>\n",
       "    <tr>\n",
       "      <th>4</th>\n",
       "      <td>9.8</td>\n",
       "      <td>7.9</td>\n",
       "    </tr>\n",
       "  </tbody>\n",
       "</table>\n",
       "</div>"
      ],
      "text/plain": [
       "     X    Y\n",
       "4  9.8  7.9"
      ]
     },
     "execution_count": 7,
     "metadata": {},
     "output_type": "execute_result"
    }
   ],
   "source": [
    "df[df['X']>max_thresold]"
   ]
  },
  {
   "cell_type": "code",
   "execution_count": 8,
   "id": "69174018-92b6-4778-b641-816606136e70",
   "metadata": {},
   "outputs": [
    {
     "data": {
      "text/plain": [
       "4.4600000378"
      ]
     },
     "execution_count": 8,
     "metadata": {},
     "output_type": "execute_result"
    }
   ],
   "source": [
    "min_thresold = df['X'].quantile(0.10)\n",
    "min_thresold"
   ]
  },
  {
   "cell_type": "code",
   "execution_count": 9,
   "id": "a7262d7f-dfe9-4dc6-80de-031a21ba0f1c",
   "metadata": {},
   "outputs": [
    {
     "data": {
      "text/html": [
       "<div>\n",
       "<style scoped>\n",
       "    .dataframe tbody tr th:only-of-type {\n",
       "        vertical-align: middle;\n",
       "    }\n",
       "\n",
       "    .dataframe tbody tr th {\n",
       "        vertical-align: top;\n",
       "    }\n",
       "\n",
       "    .dataframe thead th {\n",
       "        text-align: right;\n",
       "    }\n",
       "</style>\n",
       "<table border=\"1\" class=\"dataframe\">\n",
       "  <thead>\n",
       "    <tr style=\"text-align: right;\">\n",
       "      <th></th>\n",
       "      <th>X</th>\n",
       "      <th>Y</th>\n",
       "    </tr>\n",
       "  </thead>\n",
       "  <tbody>\n",
       "    <tr>\n",
       "      <th>0</th>\n",
       "      <td>2.9</td>\n",
       "      <td>4.0</td>\n",
       "    </tr>\n",
       "    <tr>\n",
       "      <th>11</th>\n",
       "      <td>4.4</td>\n",
       "      <td>4.4</td>\n",
       "    </tr>\n",
       "  </tbody>\n",
       "</table>\n",
       "</div>"
      ],
      "text/plain": [
       "      X    Y\n",
       "0   2.9  4.0\n",
       "11  4.4  4.4"
      ]
     },
     "execution_count": 9,
     "metadata": {},
     "output_type": "execute_result"
    }
   ],
   "source": [
    "df[df['X']<min_thresold]"
   ]
  },
  {
   "cell_type": "markdown",
   "id": "f225d38e-715d-41ad-800b-e74243a118b3",
   "metadata": {},
   "source": [
    "\n",
    "<font color='red' size='6'>Remove the outliers and produce new dataframe</font>"
   ]
  },
  {
   "cell_type": "code",
   "execution_count": 10,
   "id": "d82d3a0c-b217-4de6-a913-e8add488aa7a",
   "metadata": {},
   "outputs": [
    {
     "data": {
      "text/html": [
       "<div>\n",
       "<style scoped>\n",
       "    .dataframe tbody tr th:only-of-type {\n",
       "        vertical-align: middle;\n",
       "    }\n",
       "\n",
       "    .dataframe tbody tr th {\n",
       "        vertical-align: top;\n",
       "    }\n",
       "\n",
       "    .dataframe thead th {\n",
       "        text-align: right;\n",
       "    }\n",
       "</style>\n",
       "<table border=\"1\" class=\"dataframe\">\n",
       "  <thead>\n",
       "    <tr style=\"text-align: right;\">\n",
       "      <th></th>\n",
       "      <th>X</th>\n",
       "      <th>Y</th>\n",
       "    </tr>\n",
       "  </thead>\n",
       "  <tbody>\n",
       "    <tr>\n",
       "      <th>1</th>\n",
       "      <td>6.7</td>\n",
       "      <td>7.4</td>\n",
       "    </tr>\n",
       "    <tr>\n",
       "      <th>2</th>\n",
       "      <td>4.9</td>\n",
       "      <td>5.0</td>\n",
       "    </tr>\n",
       "    <tr>\n",
       "      <th>3</th>\n",
       "      <td>7.9</td>\n",
       "      <td>7.2</td>\n",
       "    </tr>\n",
       "    <tr>\n",
       "      <th>5</th>\n",
       "      <td>6.9</td>\n",
       "      <td>6.1</td>\n",
       "    </tr>\n",
       "    <tr>\n",
       "      <th>6</th>\n",
       "      <td>6.1</td>\n",
       "      <td>6.0</td>\n",
       "    </tr>\n",
       "    <tr>\n",
       "      <th>7</th>\n",
       "      <td>6.2</td>\n",
       "      <td>5.8</td>\n",
       "    </tr>\n",
       "    <tr>\n",
       "      <th>8</th>\n",
       "      <td>6.0</td>\n",
       "      <td>5.2</td>\n",
       "    </tr>\n",
       "    <tr>\n",
       "      <th>9</th>\n",
       "      <td>5.1</td>\n",
       "      <td>4.2</td>\n",
       "    </tr>\n",
       "    <tr>\n",
       "      <th>10</th>\n",
       "      <td>4.7</td>\n",
       "      <td>4.0</td>\n",
       "    </tr>\n",
       "    <tr>\n",
       "      <th>12</th>\n",
       "      <td>5.8</td>\n",
       "      <td>5.2</td>\n",
       "    </tr>\n",
       "  </tbody>\n",
       "</table>\n",
       "</div>"
      ],
      "text/plain": [
       "      X    Y\n",
       "1   6.7  7.4\n",
       "2   4.9  5.0\n",
       "3   7.9  7.2\n",
       "5   6.9  6.1\n",
       "6   6.1  6.0\n",
       "7   6.2  5.8\n",
       "8   6.0  5.2\n",
       "9   5.1  4.2\n",
       "10  4.7  4.0\n",
       "12  5.8  5.2"
      ]
     },
     "execution_count": 10,
     "metadata": {},
     "output_type": "execute_result"
    }
   ],
   "source": [
    "df_no_outlier =df[(df['X']<max_thresold) & (df['X']>min_thresold)]\n",
    "df_no_outlier"
   ]
  },
  {
   "cell_type": "code",
   "execution_count": 11,
   "id": "ca039747-d5d1-45be-b74c-f20c16d0b226",
   "metadata": {},
   "outputs": [
    {
     "data": {
      "text/plain": [
       "(10, 2)"
      ]
     },
     "execution_count": 11,
     "metadata": {},
     "output_type": "execute_result"
    }
   ],
   "source": [
    "df_no_outlier.shape"
   ]
  },
  {
   "cell_type": "code",
   "execution_count": 12,
   "id": "b12bdfd6-fa78-49df-9532-24c9b7480992",
   "metadata": {},
   "outputs": [
    {
     "data": {
      "text/plain": [
       "(13, 2)"
      ]
     },
     "execution_count": 12,
     "metadata": {},
     "output_type": "execute_result"
    }
   ],
   "source": [
    "df.shape"
   ]
  },
  {
   "cell_type": "code",
   "execution_count": 13,
   "id": "7bcb0126-a2ea-4df0-9983-4dabb1ae8e83",
   "metadata": {},
   "outputs": [
    {
     "data": {
      "text/plain": [
       "[<matplotlib.lines.Line2D at 0x200434b4fd0>]"
      ]
     },
     "execution_count": 13,
     "metadata": {},
     "output_type": "execute_result"
    },
    {
     "data": {
      "image/png": "[encoded data removed]",
      "text/plain": [
       "<Figure size 640x480 with 1 Axes>"
      ]
     },
     "metadata": {},
     "output_type": "display_data"
    }
   ],
   "source": [
    "from scipy.stats import norm\n",
    "import numpy as np\n",
    "plt.hist(df_no_outlier.X, bins=20, rwidth=0.8, density=True)\n",
    "plt.xlabel('X')\n",
    "plt.ylabel('Count')\n",
    "\n",
    "rng = np.arange(df_no_outlier.X.min(), df_no_outlier.X.max(), 0.1)\n",
    "plt.plot(rng, norm.pdf(rng,df_no_outlier.X.mean(),df_no_outlier.X.std()))"
   ]
  },
  {
   "cell_type": "code",
   "execution_count": 14,
   "id": "0ef419fc-ae03-47ac-a294-dccefd55a6fe",
   "metadata": {},
   "outputs": [
    {
     "data": {
      "text/plain": [
       "(6.0299999713, 5.609999942699999)"
      ]
     },
     "execution_count": 14,
     "metadata": {},
     "output_type": "execute_result"
    }
   ],
   "source": [
    "# collecting x & y\n",
    "X = df_no_outlier['X'].values\n",
    "Y = df_no_outlier['Y'].values\n",
    "\n",
    "# calculate mean of x & y using an inbuilt numpy method mean()\n",
    "mean_x = np.mean(X)\n",
    "mean_y = np.mean(Y)\n",
    "mean_x,mean_y"
   ]
  },
  {
   "cell_type": "code",
   "execution_count": 18,
   "id": "daf6fabb-f633-4a18-8c26-10368abdb6b1",
   "metadata": {},
   "outputs": [
    {
     "name": "stdout",
     "output_type": "stream",
     "text": [
      "Regression Equation: Y = 1.02X + -0.56\n",
      "R-squared: 0.80\n"
     ]
    },
    {
     "data": {
      "image/png": "[encoded data removed]",
      "text/plain": [
       "<Figure size 640x480 with 1 Axes>"
      ]
     },
     "metadata": {},
     "output_type": "display_data"
    }
   ],
   "source": [
    "import numpy as np\n",
    "import matplotlib.pyplot as plt\n",
    "\n",
    "# Assuming you have loaded your data into X and Y\n",
    "\n",
    "# Calculate the means of X and Y\n",
    "mean_x = np.mean(X)\n",
    "mean_y = np.mean(Y)\n",
    "\n",
    "# Calculate the slope (m) and intercept (c) using the least squares method\n",
    "numer = 0\n",
    "denom = 0\n",
    "for i in range(len(X)):\n",
    "    numer += (X[i] - mean_x) * (Y[i] - mean_y)\n",
    "    denom += (X[i] - mean_x) ** 2\n",
    "\n",
    "m = numer / denom\n",
    "c = mean_y - (m * mean_x)\n",
    "\n",
    "# Create a regression line using the calculated m and c\n",
    "regression_line = [(m * x) + c for x in X]\n",
    "\n",
    "# Calculate the coefficient of determination (R-squared)\n",
    "ssr = 0  # Sum of squared residuals\n",
    "sst = 0  # Total sum of squares\n",
    "for i in range(len(X)):\n",
    "    y_pred = (m * X[i]) + c\n",
    "    ssr += (Y[i] - y_pred) ** 2\n",
    "    sst += (Y[i] - mean_y) ** 2\n",
    "\n",
    "r_squared = 1 - (ssr / sst)\n",
    "\n",
    "# Plot the data points and regression line\n",
    "plt.scatter(X, Y, c=\"red\", label=\"Actual Data\")\n",
    "plt.plot(X, regression_line, label=\"Regression Line\", color=\"blue\")\n",
    "plt.xlabel(\"X\")\n",
    "plt.ylabel(\"Y\")\n",
    "plt.legend()\n",
    "\n",
    "# Display the regression equation and R-squared value\n",
    "print(f\"Regression Equation: Y = {m:.2f}X + {c:.2f}\")\n",
    "print(f\"R-squared: {r_squared:.2f}\")\n",
    "\n",
    "plt.show()\n"
   ]
  },
  {
   "cell_type": "code",
   "execution_count": 16,
   "id": "238ae396-a7a2-4099-a0c6-ac0c1847feed",
   "metadata": {},
   "outputs": [
    {
     "name": "stdout",
     "output_type": "stream",
     "text": [
      "Regression Equation (Training): Y = 1.10X + -1.09\n",
      "R-squared (Training): 0.75\n",
      "Mean Squared Error (Test): 0.25\n",
      "R-squared (Test): 0.02\n"
     ]
    },
    {
     "data": {
      "image/png": "[encoded data removed]",
      "text/plain": [
       "<Figure size 640x480 with 1 Axes>"
      ]
     },
     "metadata": {},
     "output_type": "display_data"
    }
   ],
   "source": [
    "import numpy as np\n",
    "import matplotlib.pyplot as plt\n",
    "from sklearn.model_selection import train_test_split\n",
    "from sklearn.metrics import mean_squared_error, r2_score\n",
    "\n",
    "# Assuming you have loaded your data into X and Y\n",
    "\n",
    "# Split the data into training and testing sets\n",
    "X_train, X_test, Y_train, Y_test = train_test_split(X, Y, test_size=0.2, random_state=42)\n",
    "\n",
    "# Calculate the means of X_train and Y_train\n",
    "mean_x = np.mean(X_train)\n",
    "mean_y = np.mean(Y_train)\n",
    "\n",
    "# Calculate the slope (m) and intercept (c) using the least squares method\n",
    "numer = 0\n",
    "denom = 0\n",
    "for i in range(len(X_train)):\n",
    "    numer += (X_train[i] - mean_x) * (Y_train[i] - mean_y)\n",
    "    denom += (X_train[i] - mean_x) ** 2\n",
    "\n",
    "m = numer / denom\n",
    "c = mean_y - (m * mean_x)\n",
    "\n",
    "# Create a regression line using the calculated m and c for training set\n",
    "regression_line_train = [(m * x) + c for x in X_train]\n",
    "\n",
    "# Calculate the coefficient of determination (R-squared) for training set\n",
    "ssr = sum((Y_train - regression_line_train) ** 2)\n",
    "sst = sum((Y_train - mean_y) ** 2)\n",
    "r_squared_train = 1 - (ssr / sst)\n",
    "\n",
    "# Make predictions on the test set\n",
    "regression_line_test = [(m * x) + c for x in X_test]\n",
    "\n",
    "# Calculate MSE and R-squared for the test set\n",
    "mse = mean_squared_error(Y_test, regression_line_test)\n",
    "r_squared_test = r2_score(Y_test, regression_line_test)\n",
    "\n",
    "# Plot the data points and regression line for training set\n",
    "plt.scatter(X_train, Y_train, c=\"red\", label=\"Training Data\")\n",
    "plt.plot(X_train, regression_line_train, label=\"Regression Line (Training)\", color=\"blue\")\n",
    "\n",
    "# Plot the data points and regression line for test set\n",
    "plt.scatter(X_test, Y_test, c=\"green\", label=\"Test Data\")\n",
    "plt.plot(X_test, regression_line_test, label=\"Regression Line (Test)\", color=\"orange\")\n",
    "\n",
    "plt.xlabel(\"X\")\n",
    "plt.ylabel(\"Y\")\n",
    "plt.legend()\n",
    "\n",
    "# Display the regression equation and R-squared value for training set\n",
    "print(f\"Regression Equation (Training): Y = {m:.2f}X + {c:.2f}\")\n",
    "print(f\"R-squared (Training): {r_squared_train:.2f}\")\n",
    "\n",
    "# Display the MSE and R-squared value for test set\n",
    "print(f\"Mean Squared Error (Test): {mse:.2f}\")\n",
    "print(f\"R-squared (Test): {r_squared_test:.2f}\")\n",
    "\n",
    "plt.show()\n"
   ]
  },
  {
   "cell_type": "code",
   "execution_count": null,
   "id": "3385a666-7071-4423-a8fb-0a3e1226af44",
   "metadata": {},
   "outputs": [],
   "source": []
  },
  {
   "cell_type": "code",
   "execution_count": null,
   "id": "fc8c58b3-5b53-4229-ae53-341d78c34575",
   "metadata": {},
   "outputs": [],
   "source": []
  }
 ],
 "metadata": {
  "kernelspec": {
   "display_name": "Python 3 (ipykernel)",
   "language": "python",
   "name": "python3"
  },
  "language_info": {
   "codemirror_mode": {
    "name": "ipython",
    "version": 3
   },
   "file_extension": ".py",
   "mimetype": "text/x-python",
   "name": "python",
   "nbconvert_exporter": "python",
   "pygments_lexer": "ipython3",
   "version": "3.11.5"
  }
 },
 "nbformat": 4,
 "nbformat_minor": 5
}
